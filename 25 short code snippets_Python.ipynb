{
 "cells": [
  {
   "cell_type": "markdown",
   "metadata": {
    "colab_type": "text",
    "id": "qIdhRG0UE3_1"
   },
   "source": [
    "# 25 short code snippets\n",
    "Help day to day Python tasks\n",
    "\n"
   ]
  },
  {
   "cell_type": "markdown",
   "metadata": {
    "colab_type": "text",
    "id": "YMRjVjeoFTDN"
   },
   "source": [
    "## 1. Swap values between 2 variables\n"
   ]
  },
  {
   "cell_type": "code",
   "execution_count": 3,
   "metadata": {
    "colab": {
     "base_uri": "https://localhost:8080/",
     "height": 119
    },
    "colab_type": "code",
    "id": "Jbl1M4qAFSEv",
    "outputId": "3fedd529-3196-4adf-ee50-91fd1ccaab8d"
   },
   "outputs": [
    {
     "name": "stdout",
     "output_type": "stream",
     "text": [
      "Before swapping the variables\n",
      "A :  5\n",
      "B :  10\n",
      "After swapping the variables\n",
      "A :  10\n",
      "B :  5\n"
     ]
    }
   ],
   "source": [
    "a = 5\n",
    "b = 10\n",
    "print(\"Before swapping the variables\")\n",
    "print(\"A : \",a)  # 5\n",
    "print(\"B : \",b)  # 10\n",
    "a,b = b,a  # swapping the values \n",
    "print(\"After swapping the variables\")\n",
    "print(\"A : \",a)  # 10\n",
    "print(\"B : \",b)  # 5"
   ]
  },
  {
   "cell_type": "markdown",
   "metadata": {
    "colab_type": "text",
    "id": "AFQYHqm8F4zS"
   },
   "source": [
    "## 2. Check if the given number is even\n"
   ]
  },
  {
   "cell_type": "code",
   "execution_count": 5,
   "metadata": {
    "colab": {
     "base_uri": "https://localhost:8080/",
     "height": 51
    },
    "colab_type": "code",
    "id": "tI_OhxIOEq5i",
    "outputId": "0de98131-983f-4a05-b269-3691a9018f51"
   },
   "outputs": [
    {
     "name": "stdout",
     "output_type": "stream",
     "text": [
      "True\n",
      "False\n"
     ]
    }
   ],
   "source": [
    "# UDF that returns True if given number is even\n",
    "def is_even(number):\n",
    "  return number % 2 == 0\n",
    "\n",
    "print(is_even(10))  # True\n",
    "print(is_even(55))  # False"
   ]
  },
  {
   "cell_type": "markdown",
   "metadata": {
    "colab_type": "text",
    "id": "osNdDP3hGYKP"
   },
   "source": [
    "## 3. Split a multiline string into a list of lines\n",
    "\n"
   ]
  },
  {
   "cell_type": "code",
   "execution_count": 6,
   "metadata": {
    "colab": {
     "base_uri": "https://localhost:8080/",
     "height": 34
    },
    "colab_type": "code",
    "id": "naD7yDMbFCC7",
    "outputId": "357a4439-66cb-4d49-db63-1a3057fcbbe8"
   },
   "outputs": [
    {
     "data": {
      "text/plain": [
       "['50', 'python', 'snippets']"
      ]
     },
     "execution_count": 6,
     "metadata": {
      "tags": []
     },
     "output_type": "execute_result"
    }
   ],
   "source": [
    "# Splitting a multiline string into a list of words\n",
    "def split_lines(s):\n",
    "  return s.split('\\n')\n",
    "\n",
    "split_lines('50\\npython\\nsnippets')  # ['50', 'python', 'snippets']"
   ]
  },
  {
   "cell_type": "markdown",
   "metadata": {
    "colab_type": "text",
    "id": "XDFU5CvfJneW"
   },
   "source": [
    "## 4. Combine a list of strings into a single string\n"
   ]
  },
  {
   "cell_type": "code",
   "execution_count": 22,
   "metadata": {
    "colab": {
     "base_uri": "https://localhost:8080/",
     "height": 34
    },
    "colab_type": "code",
    "id": "l7H0oj5hJQ5e",
    "outputId": "e2de4820-7595-4581-ac6e-108899bba5ba"
   },
   "outputs": [
    {
     "name": "stdout",
     "output_type": "stream",
     "text": [
      "50,python,snippets\n"
     ]
    }
   ],
   "source": [
    "# The next snippet combines a list of strings into a single string.\n",
    "strings = ['50', 'python', 'snippets']\n",
    "print(','.join(strings)) # 50,python,snippets"
   ]
  },
  {
   "cell_type": "markdown",
   "metadata": {
    "colab_type": "text",
    "id": "OJrund3GHPN5"
   },
   "source": [
    "## 5. Find memory used by an object"
   ]
  },
  {
   "cell_type": "code",
   "execution_count": 8,
   "metadata": {
    "colab": {
     "base_uri": "https://localhost:8080/",
     "height": 51
    },
    "colab_type": "code",
    "id": "7TeruUyTG4TS",
    "outputId": "eb16b4c0-9b57-424c-b3dc-a8d37d727019"
   },
   "outputs": [
    {
     "name": "stdout",
     "output_type": "stream",
     "text": [
      "28\n",
      "55\n"
     ]
    }
   ],
   "source": [
    "# The python function 'getsizeof()' accepts an object, calls the object's 'sizeof()' method, & returns the result, so you can make your objects inspectable.\n",
    "import sys\n",
    "print(sys.getsizeof(5))  # 28\n",
    "print(sys.getsizeof(\"Python\"))  # 55"
   ]
  },
  {
   "cell_type": "markdown",
   "metadata": {
    "colab_type": "text",
    "id": "HMr4ze4sH8q0"
   },
   "source": [
    "## 6. Reverse a string"
   ]
  },
  {
   "cell_type": "code",
   "execution_count": 10,
   "metadata": {
    "colab": {
     "base_uri": "https://localhost:8080/",
     "height": 34
    },
    "colab_type": "code",
    "id": "37uSJxKtHgwL",
    "outputId": "d1af630a-4831-4142-9ea6-3307165be08f"
   },
   "outputs": [
    {
     "name": "stdout",
     "output_type": "stream",
     "text": [
      "nohtyP\n"
     ]
    }
   ],
   "source": [
    "language = \"Python\"  # string variable\n",
    "reversed_language = language[::-1]  # reverse the string\n",
    "print(reversed_language)  # nohtyP"
   ]
  },
  {
   "cell_type": "markdown",
   "metadata": {
    "colab_type": "text",
    "id": "V1gCVWk3Ipe4"
   },
   "source": [
    "## 7. Print a string n times"
   ]
  },
  {
   "cell_type": "code",
   "execution_count": 15,
   "metadata": {
    "colab": {
     "base_uri": "https://localhost:8080/",
     "height": 34
    },
    "colab_type": "code",
    "id": "rZO6tdx4IJru",
    "outputId": "e792e840-2621-45ba-8da3-c59a8f8710db"
   },
   "outputs": [
    {
     "data": {
      "text/plain": [
       "'PythonPythonPython'"
      ]
     },
     "execution_count": 15,
     "metadata": {
      "tags": []
     },
     "output_type": "execute_result"
    }
   ],
   "source": [
    "def repeat_string(str, n):\n",
    "  return (str * n)\n",
    "\n",
    "repeat_string('Python', 3)  # 'PythonPythonPython'"
   ]
  },
  {
   "cell_type": "markdown",
   "metadata": {
    "colab_type": "text",
    "id": "wS8Le_DFJAyP"
   },
   "source": [
    "## 8. Check if a string is a palindrome"
   ]
  },
  {
   "cell_type": "code",
   "execution_count": 21,
   "metadata": {
    "colab": {
     "base_uri": "https://localhost:8080/",
     "height": 68
    },
    "colab_type": "code",
    "id": "BE9JVTX5I1j_",
    "outputId": "f05597d4-56ea-4e8d-8154-ad45fdc8567e"
   },
   "outputs": [
    {
     "name": "stdout",
     "output_type": "stream",
     "text": [
      "False\n",
      "True\n",
      "False\n"
     ]
    }
   ],
   "source": [
    "def check_palindrome(str):\n",
    "  return str == str[::-1]\n",
    "\n",
    "print(check_palindrome('Python'))  # False\n",
    "print(check_palindrome('madam'))  # True\n",
    "print(check_palindrome('nurses run'))  # False"
   ]
  },
  {
   "cell_type": "markdown",
   "metadata": {
    "colab_type": "text",
    "id": "9pjn-QtHLJ3j"
   },
   "source": [
    "## 9. Find the first element of a list"
   ]
  },
  {
   "cell_type": "code",
   "execution_count": 23,
   "metadata": {
    "colab": {
     "base_uri": "https://localhost:8080/",
     "height": 34
    },
    "colab_type": "code",
    "id": "aJNi2sDPLOUP",
    "outputId": "9c6381ba-9192-4019-e22b-a8ba7c3f9195"
   },
   "outputs": [
    {
     "data": {
      "text/plain": [
       "1"
      ]
     },
     "execution_count": 23,
     "metadata": {
      "tags": []
     },
     "output_type": "execute_result"
    }
   ],
   "source": [
    "def check_head(list):\n",
    "  return list[0]\n",
    "\n",
    "check_head([1,2,3,4])  # 1"
   ]
  },
  {
   "cell_type": "markdown",
   "metadata": {
    "colab_type": "text",
    "id": "UPjcR9GJLb3h"
   },
   "source": [
    "## 10. Calculate union of 2 lists"
   ]
  },
  {
   "cell_type": "code",
   "execution_count": 25,
   "metadata": {
    "colab": {
     "base_uri": "https://localhost:8080/",
     "height": 34
    },
    "colab_type": "code",
    "id": "u3REmxyiLaBX",
    "outputId": "4c5270de-20b3-4a41-c118-67232ef90fe6"
   },
   "outputs": [
    {
     "data": {
      "text/plain": [
       "[1, 2, 3, 4, 6, 8, 9]"
      ]
     },
     "execution_count": 25,
     "metadata": {
      "tags": []
     },
     "output_type": "execute_result"
    }
   ],
   "source": [
    "# find common elements in 2 lists\n",
    "def union(a,b):\n",
    "  return list(set(a + b))\n",
    "\n",
    "union([1,2,3,4], [9,6,2,4,8])  # [1, 2, 3, 4, 6, 8, 9]"
   ]
  },
  {
   "cell_type": "markdown",
   "metadata": {
    "colab_type": "text",
    "id": "lf6WrRVzM5D4"
   },
   "source": [
    "## 11. Find all the unique elements present in a given list"
   ]
  },
  {
   "cell_type": "code",
   "execution_count": 27,
   "metadata": {
    "colab": {
     "base_uri": "https://localhost:8080/",
     "height": 34
    },
    "colab_type": "code",
    "id": "CaFEPWeVMsmV",
    "outputId": "ac8c507f-4a17-48fc-ace6-35cbb41e7983"
   },
   "outputs": [
    {
     "data": {
      "text/plain": [
       "[1, 2, 3, 4, 5]"
      ]
     },
     "execution_count": 27,
     "metadata": {
      "tags": []
     },
     "output_type": "execute_result"
    }
   ],
   "source": [
    "# function that returns the unique elements present in a given list\n",
    "def unique_elements(numbers):\n",
    "  return list(set(numbers))\n",
    "\n",
    "unique_elements([1,2,3,4,5,2,3])"
   ]
  },
  {
   "cell_type": "markdown",
   "metadata": {
    "colab_type": "text",
    "id": "zH7W59neM-h_"
   },
   "source": [
    "## 12. Find the average of a list of numbers"
   ]
  },
  {
   "cell_type": "code",
   "execution_count": 33,
   "metadata": {
    "colab": {
     "base_uri": "https://localhost:8080/",
     "height": 51
    },
    "colab_type": "code",
    "id": "84a6LgQkNZaH",
    "outputId": "10885640-0aae-402e-9d25-521a200ec85b"
   },
   "outputs": [
    {
     "name": "stdout",
     "output_type": "stream",
     "text": [
      "5.0\n",
      "32.666666666666664\n"
     ]
    }
   ],
   "source": [
    "# This function returns the average of two or more numbers present in a list.\n",
    "def average(*args):\n",
    "  return sum(args, 0.0)/len(args)\n",
    "\n",
    "print(average(5,8,2))  # 5.0\n",
    "print(average(3,5,90))  # 32.666666666666664"
   ]
  },
  {
   "cell_type": "markdown",
   "metadata": {
    "colab_type": "text",
    "id": "omHV4ZJrN2Nq"
   },
   "source": [
    "## 13. Check if a list contains all unique values"
   ]
  },
  {
   "cell_type": "code",
   "execution_count": 37,
   "metadata": {
    "colab": {
     "base_uri": "https://localhost:8080/",
     "height": 85
    },
    "colab_type": "code",
    "id": "pnVQBmvcNndn",
    "outputId": "913f4dcf-3e9c-48bc-9ee5-7583b5578866"
   },
   "outputs": [
    {
     "name": "stdout",
     "output_type": "stream",
     "text": [
      "All elements are unique\n",
      "None\n",
      "List has duplicates\n",
      "None\n"
     ]
    }
   ],
   "source": [
    "## This function checks if all the elements in a list are unique or not.\n",
    "def unique(list):\n",
    "  if len(list) == len(set(list)):\n",
    "    print(\"All elements are unique\")\n",
    "  else:\n",
    "    print(\"List has duplicates\")\n",
    "\n",
    "print(unique([1,2,3,4,5,6,7,8]))  # unique\n",
    "print(unique([1,2,4,5,4]))  # duplicates"
   ]
  },
  {
   "cell_type": "markdown",
   "metadata": {
    "colab_type": "text",
    "id": "sDQ5rvj2OwUd"
   },
   "source": [
    "## 14. Track frequency of elements in a list"
   ]
  },
  {
   "cell_type": "code",
   "execution_count": 39,
   "metadata": {
    "colab": {
     "base_uri": "https://localhost:8080/",
     "height": 34
    },
    "colab_type": "code",
    "id": "PDTYgL_fN1Qi",
    "outputId": "f0e0a286-ae39-41d9-8dea-93ca29c7a403"
   },
   "outputs": [
    {
     "name": "stdout",
     "output_type": "stream",
     "text": [
      "Counter({2: 3, 3: 3, 1: 2, 4: 1})\n"
     ]
    }
   ],
   "source": [
    "# 'Counter()' returns a dictionary with elements as keys and frequency of its occurrence as its values.\n",
    "from collections import Counter\n",
    "list = [1,2,3,2,4,3,2,3,1]\n",
    "count = Counter(list)\n",
    "print(count)"
   ]
  },
  {
   "cell_type": "markdown",
   "metadata": {
    "colab_type": "text",
    "id": "Pho1fqmAQxrw"
   },
   "source": [
    "## 15. Find the most frequent element in a list"
   ]
  },
  {
   "cell_type": "code",
   "execution_count": 40,
   "metadata": {
    "colab": {
     "base_uri": "https://localhost:8080/",
     "height": 34
    },
    "colab_type": "code",
    "id": "yPz9qqGkPC9Y",
    "outputId": "4195caa3-22a9-4000-eba3-3485cb6e3845"
   },
   "outputs": [
    {
     "data": {
      "text/plain": [
       "3"
      ]
     },
     "execution_count": 40,
     "metadata": {
      "tags": []
     },
     "output_type": "execute_result"
    }
   ],
   "source": [
    "# This function returns the most frequent element that appears in a list.\n",
    "def most_frequent(list):\n",
    "    return max(set(list), key = list.count)\n",
    "numbers = [1, 2, 3, 2, 4, 3, 1, 3]\n",
    "most_frequent(numbers) # 3"
   ]
  },
  {
   "cell_type": "markdown",
   "metadata": {
    "colab_type": "text",
    "id": "5ZZApDytQ7oK"
   },
   "source": [
    "## 16. Convert an angle from degrees to radians"
   ]
  },
  {
   "cell_type": "code",
   "execution_count": 41,
   "metadata": {
    "colab": {
     "base_uri": "https://localhost:8080/",
     "height": 34
    },
    "colab_type": "code",
    "id": "DCCGU5SHQ51_",
    "outputId": "d63dcabd-54d8-4dfb-b7c1-1623b7f39211"
   },
   "outputs": [
    {
     "data": {
      "text/plain": [
       "1.5707963267948966"
      ]
     },
     "execution_count": 41,
     "metadata": {
      "tags": []
     },
     "output_type": "execute_result"
    }
   ],
   "source": [
    "# The next function is used for converting an angle from degrees to radians.\n",
    "import math\n",
    "def degrees_to_radians(deg):\n",
    "  return (deg * math.pi) / 180.0\n",
    "degrees_to_radians(90) # 1.5707963267948966"
   ]
  },
  {
   "cell_type": "markdown",
   "metadata": {
    "colab_type": "text",
    "id": "_rR7_B-ARCbE"
   },
   "source": [
    "## 17. Calculate time taken to execute a piece of code"
   ]
  },
  {
   "cell_type": "code",
   "execution_count": 42,
   "metadata": {
    "colab": {
     "base_uri": "https://localhost:8080/",
     "height": 34
    },
    "colab_type": "code",
    "id": "yBSb9LIZQ_UX",
    "outputId": "6840b1ab-bc72-4d98-e8d1-83e5b46e6168"
   },
   "outputs": [
    {
     "name": "stdout",
     "output_type": "stream",
     "text": [
      "Time taken in micro_seconds: 91.07589721679688\n"
     ]
    }
   ],
   "source": [
    "# The following snippet is used for calculating the time taken to execute a piece of code.\n",
    "import time\n",
    "start_time = time.time()\n",
    "a,b = 5,10\n",
    "c = a+b\n",
    "end_time = time.time()\n",
    "time_taken = (end_time- start_time)*(10**6)\n",
    "print(\"Time taken in micro_seconds:\", time_taken) # Time taken in micro_seconds: 39.577484130859375"
   ]
  },
  {
   "cell_type": "markdown",
   "metadata": {
    "colab_type": "text",
    "id": "VgOTZy48RH5C"
   },
   "source": [
    "## 18. Find gcd of a list of numbers"
   ]
  },
  {
   "cell_type": "code",
   "execution_count": 43,
   "metadata": {
    "colab": {
     "base_uri": "https://localhost:8080/",
     "height": 34
    },
    "colab_type": "code",
    "id": "j0sE3H6NRFsl",
    "outputId": "9181e251-985c-4c54-b343-e31a7234b698"
   },
   "outputs": [
    {
     "data": {
      "text/plain": [
       "6"
      ]
     },
     "execution_count": 43,
     "metadata": {
      "tags": []
     },
     "output_type": "execute_result"
    }
   ],
   "source": [
    "# This function calculates the greatest common divisor of a list of numbers.\n",
    "from functools import reduce\n",
    "import math\n",
    "def gcd(numbers):\n",
    "  return reduce(math.gcd, numbers)\n",
    "gcd([24,108,90]) # 6"
   ]
  },
  {
   "cell_type": "markdown",
   "metadata": {
    "colab_type": "text",
    "id": "dwGtsDg6RO3q"
   },
   "source": [
    "## 19. Find unique characters in a string"
   ]
  },
  {
   "cell_type": "code",
   "execution_count": 44,
   "metadata": {
    "colab": {
     "base_uri": "https://localhost:8080/",
     "height": 34
    },
    "colab_type": "code",
    "id": "MLWO16xPRKcs",
    "outputId": "a0595aff-cb55-4d65-dca4-0a8fd58da7f3"
   },
   "outputs": [
    {
     "name": "stdout",
     "output_type": "stream",
     "text": [
      "bdca\n"
     ]
    }
   ],
   "source": [
    "# This snippet can be used to find all the unique characters present in a string.\n",
    "string = \"abcbcabdb\"   \n",
    "unique = set(string)\n",
    "new_string = ''.join(unique)\n",
    "print(new_string) # abcd"
   ]
  },
  {
   "cell_type": "markdown",
   "metadata": {
    "colab_type": "text",
    "id": "vlS-Ud96RTcO"
   },
   "source": [
    "## 20. Use lambda functions"
   ]
  },
  {
   "cell_type": "code",
   "execution_count": 45,
   "metadata": {
    "colab": {
     "base_uri": "https://localhost:8080/",
     "height": 34
    },
    "colab_type": "code",
    "id": "r6sZxDq0RRxW",
    "outputId": "39d833ab-f0c9-4e09-9cb0-e1ecf69a7401"
   },
   "outputs": [
    {
     "name": "stdout",
     "output_type": "stream",
     "text": [
      "35\n"
     ]
    }
   ],
   "source": [
    "# Lambda is an anonymous function with the capability of holding a single expression only.\n",
    "x = lambda a, b, c : a + b + c\n",
    "print(x(5, 10, 20)) # 35"
   ]
  },
  {
   "cell_type": "markdown",
   "metadata": {
    "colab_type": "text",
    "id": "JJGlY_nLRYNM"
   },
   "source": [
    "## 21. Use map functions"
   ]
  },
  {
   "cell_type": "code",
   "execution_count": 1,
   "metadata": {
    "colab": {},
    "colab_type": "code",
    "id": "phJmgrQIRWUK"
   },
   "outputs": [
    {
     "name": "stdout",
     "output_type": "stream",
     "text": [
      "[6, 4, 6, 8]\n"
     ]
    }
   ],
   "source": [
    "# This function returns a list of the results after applying the given function to each item of a given iterable(list, tuple, etc.)\n",
    "# Return double of n \n",
    "def addition(n):\n",
    "\treturn (n + n)\n",
    "\n",
    "# We double all numbers using map() \n",
    "numbers = (3, 2, 3, 4)\n",
    "result = list(map(addition, numbers))\n",
    "print(result)"
   ]
  },
  {
   "cell_type": "markdown",
   "metadata": {
    "colab_type": "text",
    "id": "U8wUNWQwhLVt"
   },
   "source": [
    "## 22. Use filter functions"
   ]
  },
  {
   "cell_type": "code",
   "execution_count": 3,
   "metadata": {
    "colab": {
     "base_uri": "https://localhost:8080/",
     "height": 197
    },
    "colab_type": "code",
    "id": "-RdkNy52Ra9e",
    "outputId": "30077b35-0da1-49ed-eaee-0ab46bec0c52"
   },
   "outputs": [
    {
     "name": "stdout",
     "output_type": "stream",
     "text": [
      "[2, 4]\n"
     ]
    }
   ],
   "source": [
    "# This function filters the given sequence with the help of a function that tests each element in the sequence to be true or not.\n",
    "arr = [1, 2, 3, 4, 5]\n",
    "arr = list(filter(lambda x : x%2 == 0, arr))\n",
    "print (arr) # [2, 4]"
   ]
  },
  {
   "cell_type": "markdown",
   "metadata": {
    "colab": {},
    "colab_type": "code",
    "id": "_7IxaEfNhPwr"
   },
   "source": [
    "## 23. Use list comprehensions"
   ]
  },
  {
   "cell_type": "code",
   "execution_count": 8,
   "metadata": {},
   "outputs": [
    {
     "name": "stdout",
     "output_type": "stream",
     "text": [
      "[1, 4, 9]\n"
     ]
    }
   ],
   "source": [
    "'''\n",
    "List comprehensions provide us with a simple way to create a list based on some iterable. \n",
    "During the creation, elements from the iterable can be conditionally included in the new list and transformed as needed.\n",
    "'''\n",
    "numbers = [1, 2, 3]\n",
    "squares = [number**2 for number in numbers]\n",
    "# squares = [i**2 for i in numbers]\n",
    "print(squares) # [1, 4, 9]"
   ]
  },
  {
   "cell_type": "markdown",
   "metadata": {},
   "source": [
    "## 24. Use slicing operator"
   ]
  },
  {
   "cell_type": "code",
   "execution_count": 9,
   "metadata": {},
   "outputs": [
    {
     "name": "stdout",
     "output_type": "stream",
     "text": [
      "[3, 4, 5, 1, 2]\n"
     ]
    }
   ],
   "source": [
    "'''\n",
    "Slicing is used to extract a continuous sequence or subsequence of elements from a given sequence. \n",
    "The following function is used for concatenating the results of two slicing operations. \n",
    "First, we are slicing the list from index d to end, then from start to index d.\n",
    "'''\n",
    "def rotate(arr, d):\n",
    "  return arr[d:] + arr[:d]\n",
    "  \n",
    "if __name__ == '__main__':\n",
    "  arr = [1, 2, 3, 4, 5]\n",
    "  arr = rotate(arr, 2)\n",
    "  print (arr) # [3, 4, 5, 1, 2]"
   ]
  },
  {
   "cell_type": "markdown",
   "metadata": {},
   "source": [
    "## 25. Use chained function call\n"
   ]
  },
  {
   "cell_type": "code",
   "execution_count": 10,
   "metadata": {},
   "outputs": [
    {
     "name": "stdout",
     "output_type": "stream",
     "text": [
      "15\n"
     ]
    }
   ],
   "source": [
    "# The final snippet is used to call multiple functions from a single line and evaluate the result.\n",
    "def add(a, b):\n",
    "    return a + b\n",
    "def subtract(a, b):   \n",
    "    return a - b\n",
    "a, b = 5, 10\n",
    "print((subtract if a > b else add)(a, b)) # 15"
   ]
  }
 ],
 "metadata": {
  "colab": {
   "name": "25 short code snippets",
   "provenance": []
  },
  "kernelspec": {
   "display_name": "Python 3",
   "language": "python",
   "name": "python3"
  },
  "language_info": {
   "codemirror_mode": {
    "name": "ipython",
    "version": 3
   },
   "file_extension": ".py",
   "mimetype": "text/x-python",
   "name": "python",
   "nbconvert_exporter": "python",
   "pygments_lexer": "ipython3",
   "version": "3.7.3"
  }
 },
 "nbformat": 4,
 "nbformat_minor": 1
}
